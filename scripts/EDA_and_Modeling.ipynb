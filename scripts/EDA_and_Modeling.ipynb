{
 "cells": [
  {
   "cell_type": "code",
   "execution_count": 11,
   "id": "022e0e39-96f9-47d6-84c1-ab3a42c6e334",
   "metadata": {},
   "outputs": [
    {
     "name": "stdout",
     "output_type": "stream",
     "text": [
      "              precision    recall  f1-score   support\n",
      "\n",
      "           0       0.88      0.98      0.93       255\n",
      "           1       0.50      0.10      0.17        39\n",
      "\n",
      "    accuracy                           0.87       294\n",
      "   macro avg       0.69      0.54      0.55       294\n",
      "weighted avg       0.83      0.87      0.83       294\n",
      "\n"
     ]
    }
   ],
   "source": [
    "import pickle\n",
    "from sklearn.ensemble import RandomForestClassifier\n",
    "from sklearn.model_selection import train_test_split\n",
    "import pandas as pd\n",
    "from sklearn.preprocessing import LabelEncoder\n",
    "\n",
    "def preprocess_data():\n",
    "    filepath = r\"C:\\Users\\navee\\Downloads\\archive\\HR-Employee-Attrition.csv\"\n",
    "    df = pd.read_csv(filepath)\n",
    "    le = LabelEncoder()\n",
    "    for col in df.select_dtypes(include='object'):\n",
    "        df[col] = le.fit_transform(df[col])\n",
    "    return df\n",
    "    \n",
    "def train_model():\n",
    "    df = preprocess_data()\n",
    "    X = df.drop('Attrition', axis=1)\n",
    "    y = df['Attrition']\n",
    "    X_train, X_test, y_train, y_test = train_test_split(X, y, test_size=0.2, random_state=42)\n",
    "    model = RandomForestClassifier(random_state=42)\n",
    "    model.fit(X_train, y_train)\n",
    "\n",
    "    # Save model\n",
    "    with open(r\"C:\\Users\\navee\\Downloads\\archive\\model.pkl\", 'wb') as f:\n",
    "        pickle.dump(model, f)\n",
    "\n",
    "    return model, X_test, y_test\n",
    "\n",
    "def evaluate_model():\n",
    "    model, X_test, y_test = train_model()\n",
    "    y_pred = model.predict(X_test)\n",
    "    report = classification_report(y_test, y_pred)\n",
    "\n",
    "    with open(r\"C:\\Users\\navee\\Downloads\\archive\\classification_report.txt\", 'w') as f:\n",
    "        f.write(report)\n",
    "\n",
    "    print(report)\n",
    "\n",
    "evaluate_model()"
   ]
  },
  {
   "cell_type": "code",
   "execution_count": null,
   "id": "094801f5-5a57-4967-8ada-8de6465e121e",
   "metadata": {},
   "outputs": [],
   "source": []
  }
 ],
 "metadata": {
  "kernelspec": {
   "display_name": "Python 3 (ipykernel)",
   "language": "python",
   "name": "python3"
  },
  "language_info": {
   "codemirror_mode": {
    "name": "ipython",
    "version": 3
   },
   "file_extension": ".py",
   "mimetype": "text/x-python",
   "name": "python",
   "nbconvert_exporter": "python",
   "pygments_lexer": "ipython3",
   "version": "3.8.10"
  }
 },
 "nbformat": 4,
 "nbformat_minor": 5
}
